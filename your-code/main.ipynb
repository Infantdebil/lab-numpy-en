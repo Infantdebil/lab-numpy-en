{
 "cells": [
  {
   "cell_type": "markdown",
   "id": "6bc92912",
   "metadata": {},
   "source": [
    "1. Import the NUMPY package under the name np."
   ]
  },
  {
   "cell_type": "code",
   "execution_count": 2,
   "id": "b03c6af3",
   "metadata": {
    "lines_to_next_cell": 2
   },
   "outputs": [],
   "source": [
    "import numpy as np\n",
    "import random   "
   ]
  },
  {
   "cell_type": "markdown",
   "id": "747ec855",
   "metadata": {},
   "source": [
    "2. Print the NUMPY version and the configuration."
   ]
  },
  {
   "cell_type": "markdown",
   "id": "942c1700",
   "metadata": {
    "lines_to_next_cell": 2
   },
   "source": [
    "[your code here]"
   ]
  },
  {
   "cell_type": "code",
   "execution_count": 3,
   "id": "679084de",
   "metadata": {},
   "outputs": [
    {
     "name": "stdout",
     "output_type": "stream",
     "text": [
      "1.26.4\n",
      "Build Dependencies:\n",
      "  blas:\n",
      "    detection method: pkgconfig\n",
      "    found: true\n",
      "    include directory: /opt/anaconda3/include\n",
      "    lib directory: /opt/anaconda3/lib\n",
      "    name: openblas\n",
      "    openblas configuration: USE_64BITINT= DYNAMIC_ARCH=1 DYNAMIC_OLDER= NO_CBLAS=\n",
      "      NO_LAPACK=0 NO_LAPACKE= NO_AFFINITY=1 USE_OPENMP=0 VORTEX MAX_THREADS=128\n",
      "    pc file directory: /opt/anaconda3/lib/pkgconfig\n",
      "    version: 0.3.21\n",
      "  lapack:\n",
      "    detection method: internal\n",
      "    found: true\n",
      "    include directory: unknown\n",
      "    lib directory: unknown\n",
      "    name: dep4347739648\n",
      "    openblas configuration: unknown\n",
      "    pc file directory: unknown\n",
      "    version: 1.26.4\n",
      "Compilers:\n",
      "  c:\n",
      "    args: -ftree-vectorize, -fPIC, -fPIE, -fstack-protector-strong, -O2, -pipe, -isystem,\n",
      "      /opt/anaconda3/include, -fdebug-prefix-map=/var/folders/k1/30mswbxs7r1g6zwn8y4fyt500000gp/T/abs_a51i_mbs7m/croot/numpy_and_numpy_base_1708638620867/work=/usr/local/src/conda/numpy-base-1.26.4,\n",
      "      -fdebug-prefix-map=/opt/anaconda3=/usr/local/src/conda-prefix, -D_FORTIFY_SOURCE=2,\n",
      "      -isystem, /opt/anaconda3/include, -mmacosx-version-min=11.1\n",
      "    commands: arm64-apple-darwin20.0.0-clang\n",
      "    linker: ld64\n",
      "    linker args: -Wl,-pie, -Wl,-headerpad_max_install_names, -Wl,-dead_strip_dylibs,\n",
      "      -Wl,-rpath,/opt/anaconda3/lib, -L/opt/anaconda3/lib, -ftree-vectorize, -fPIC,\n",
      "      -fPIE, -fstack-protector-strong, -O2, -pipe, -isystem, /opt/anaconda3/include,\n",
      "      -fdebug-prefix-map=/var/folders/k1/30mswbxs7r1g6zwn8y4fyt500000gp/T/abs_a51i_mbs7m/croot/numpy_and_numpy_base_1708638620867/work=/usr/local/src/conda/numpy-base-1.26.4,\n",
      "      -fdebug-prefix-map=/opt/anaconda3=/usr/local/src/conda-prefix, -D_FORTIFY_SOURCE=2,\n",
      "      -isystem, /opt/anaconda3/include, -mmacosx-version-min=11.1\n",
      "    name: clang\n",
      "    version: 14.0.6\n",
      "  c++:\n",
      "    args: -ftree-vectorize, -fPIC, -fPIE, -fstack-protector-strong, -O2, -pipe, -stdlib=libc++,\n",
      "      -fvisibility-inlines-hidden, -fmessage-length=0, -isystem, /opt/anaconda3/include,\n",
      "      -fdebug-prefix-map=/var/folders/k1/30mswbxs7r1g6zwn8y4fyt500000gp/T/abs_a51i_mbs7m/croot/numpy_and_numpy_base_1708638620867/work=/usr/local/src/conda/numpy-base-1.26.4,\n",
      "      -fdebug-prefix-map=/opt/anaconda3=/usr/local/src/conda-prefix, -D_FORTIFY_SOURCE=2,\n",
      "      -isystem, /opt/anaconda3/include, -mmacosx-version-min=11.1\n",
      "    commands: arm64-apple-darwin20.0.0-clang++\n",
      "    linker: ld64\n",
      "    linker args: -Wl,-pie, -Wl,-headerpad_max_install_names, -Wl,-dead_strip_dylibs,\n",
      "      -Wl,-rpath,/opt/anaconda3/lib, -L/opt/anaconda3/lib, -ftree-vectorize, -fPIC,\n",
      "      -fPIE, -fstack-protector-strong, -O2, -pipe, -stdlib=libc++, -fvisibility-inlines-hidden,\n",
      "      -fmessage-length=0, -isystem, /opt/anaconda3/include, -fdebug-prefix-map=/var/folders/k1/30mswbxs7r1g6zwn8y4fyt500000gp/T/abs_a51i_mbs7m/croot/numpy_and_numpy_base_1708638620867/work=/usr/local/src/conda/numpy-base-1.26.4,\n",
      "      -fdebug-prefix-map=/opt/anaconda3=/usr/local/src/conda-prefix, -D_FORTIFY_SOURCE=2,\n",
      "      -isystem, /opt/anaconda3/include, -mmacosx-version-min=11.1\n",
      "    name: clang\n",
      "    version: 14.0.6\n",
      "  cython:\n",
      "    commands: cython\n",
      "    linker: cython\n",
      "    name: cython\n",
      "    version: 3.0.8\n",
      "Machine Information:\n",
      "  build:\n",
      "    cpu: aarch64\n",
      "    endian: little\n",
      "    family: aarch64\n",
      "    system: darwin\n",
      "  host:\n",
      "    cpu: aarch64\n",
      "    endian: little\n",
      "    family: aarch64\n",
      "    system: darwin\n",
      "Python Information:\n",
      "  path: /opt/anaconda3/bin/python\n",
      "  version: '3.12'\n",
      "SIMD Extensions:\n",
      "  baseline:\n",
      "  - NEON\n",
      "  - NEON_FP16\n",
      "  - NEON_VFPV4\n",
      "  - ASIMD\n",
      "  found:\n",
      "  - ASIMDHP\n",
      "  not found:\n",
      "  - ASIMDFHM\n",
      "\n"
     ]
    }
   ],
   "source": [
    "print(np.__version__)\n",
    "np.show_config()"
   ]
  },
  {
   "cell_type": "markdown",
   "id": "a206a73d",
   "metadata": {},
   "source": [
    "3. Generate a 2x3x5 3-dimensional array with random values. Assign the array to variable \"a\"\n",
    "Challenge: there are at least three easy ways that use numpy to generate random arrays. How many ways can you find?"
   ]
  },
  {
   "cell_type": "code",
   "execution_count": 4,
   "id": "6b3325d3",
   "metadata": {},
   "outputs": [],
   "source": [
    "        # option 1\n",
    "a = np.random.random((2, 3, 5))\n",
    "        # option 2\n",
    "a2 = np.random.randint(1, 101, size=(2, 3, 5))\n",
    "        # option 3\n",
    "a3 = np.array([[[random.randint(1, 100) for _ in range(5)] for _ in range(3)] for _ in range(2)])\n",
    "\n"
   ]
  },
  {
   "cell_type": "markdown",
   "id": "f12cb670",
   "metadata": {},
   "source": [
    "4. Print a."
   ]
  },
  {
   "cell_type": "code",
   "execution_count": 5,
   "id": "e62a61b2",
   "metadata": {},
   "outputs": [
    {
     "name": "stdout",
     "output_type": "stream",
     "text": [
      "array a(random): \n",
      " [[[0.45335576 0.99124496 0.3559175  0.80635825 0.96709701]\n",
      "  [0.21614108 0.12813469 0.54810469 0.11917113 0.60757167]\n",
      "  [0.75727739 0.41850778 0.01718322 0.1323822  0.48744152]]\n",
      "\n",
      " [[0.04968708 0.35752342 0.36389725 0.45963487 0.62565944]\n",
      "  [0.38801653 0.08222859 0.29354992 0.20268432 0.82878365]\n",
      "  [0.11511434 0.64380758 0.81316192 0.04407557 0.22552555]]]\n",
      "array a2(randint): \n",
      " [[[90 72 66 50 57]\n",
      "  [ 7 24 42 86 79]\n",
      "  [61 93 39 19 49]]\n",
      "\n",
      " [[27 55 46 12 17]\n",
      "  [88 95 35 26 16]\n",
      "  [45 11 26 83 21]]]\n",
      "array a3(list): \n",
      " [[[ 92  62  40  20  34]\n",
      "  [ 75  16  60  68  78]\n",
      "  [ 39  31  42   9  75]]\n",
      "\n",
      " [[ 91  54  62  43  54]\n",
      "  [100  19  44  56  62]\n",
      "  [ 51  89  43   5   9]]]\n"
     ]
    }
   ],
   "source": [
    "print(f\"array a(random): \\n {a}\")\n",
    "\n",
    "print(f\"array a2(randint): \\n {a2}\")\n",
    "\n",
    "print(f\"array a3(list): \\n {a3}\")\n"
   ]
  },
  {
   "cell_type": "markdown",
   "id": "ef9b3a03",
   "metadata": {},
   "source": [
    "5. Create a 5x2x3 3-dimensional array with all values equaling 1.\n",
    "Assign the array to variable \"b\""
   ]
  },
  {
   "cell_type": "code",
   "execution_count": 6,
   "id": "956265c9",
   "metadata": {},
   "outputs": [],
   "source": [
    "# b = a3 = np.array([[[1 for _ in range(5)] for _ in range(2)] for _ in range(3)])\n",
    "b = np.ones((5, 2, 3))"
   ]
  },
  {
   "cell_type": "markdown",
   "id": "57b5a68d",
   "metadata": {},
   "source": [
    "6. Print b."
   ]
  },
  {
   "cell_type": "code",
   "execution_count": 7,
   "id": "74a511c4",
   "metadata": {},
   "outputs": [
    {
     "name": "stdout",
     "output_type": "stream",
     "text": [
      "[[[1. 1. 1.]\n",
      "  [1. 1. 1.]]\n",
      "\n",
      " [[1. 1. 1.]\n",
      "  [1. 1. 1.]]\n",
      "\n",
      " [[1. 1. 1.]\n",
      "  [1. 1. 1.]]\n",
      "\n",
      " [[1. 1. 1.]\n",
      "  [1. 1. 1.]]\n",
      "\n",
      " [[1. 1. 1.]\n",
      "  [1. 1. 1.]]]\n"
     ]
    }
   ],
   "source": [
    "print(b)\n",
    "# print(b2)"
   ]
  },
  {
   "cell_type": "markdown",
   "id": "c6927640",
   "metadata": {},
   "source": [
    "7. Do a and b have the same size? How do you prove that in Python code?"
   ]
  },
  {
   "cell_type": "code",
   "execution_count": 8,
   "id": "96d346cc",
   "metadata": {},
   "outputs": [
    {
     "name": "stdout",
     "output_type": "stream",
     "text": [
      "True\n"
     ]
    }
   ],
   "source": [
    "size_a = a.size\n",
    "size_b = b.size\n",
    "\n",
    "print(size_a== size_b)"
   ]
  },
  {
   "cell_type": "markdown",
   "id": "7fbfa190",
   "metadata": {},
   "source": [
    "8. Are you able to add a and b? Why or why not?"
   ]
  },
  {
   "cell_type": "code",
   "execution_count": 9,
   "id": "06c9d497",
   "metadata": {
    "lines_to_next_cell": 2
   },
   "outputs": [],
   "source": [
    "# Its not possible, because of the different structure/shape. If I reshape them then it's possible because of the same size."
   ]
  },
  {
   "cell_type": "markdown",
   "id": "15cd313f",
   "metadata": {},
   "source": [
    "9. Transpose b so that it has the same structure of a (i.e. become a 2x3x5 array). Assign the transposed array to varialbe \"c\"."
   ]
  },
  {
   "cell_type": "code",
   "execution_count": 10,
   "id": "fd4be649",
   "metadata": {},
   "outputs": [
    {
     "name": "stdout",
     "output_type": "stream",
     "text": [
      "[[[1. 1. 1. 1. 1.]\n",
      "  [1. 1. 1. 1. 1.]\n",
      "  [1. 1. 1. 1. 1.]]\n",
      "\n",
      " [[1. 1. 1. 1. 1.]\n",
      "  [1. 1. 1. 1. 1.]\n",
      "  [1. 1. 1. 1. 1.]]]\n"
     ]
    }
   ],
   "source": [
    "c = b.reshape(2,3,5)\n",
    "print(c)"
   ]
  },
  {
   "cell_type": "markdown",
   "id": "0c919e93",
   "metadata": {},
   "source": [
    "10. Try to add a and c. Now it should work. Assign the sum to varialbe \"d\". But why does it work now?"
   ]
  },
  {
   "cell_type": "code",
   "execution_count": 11,
   "id": "3281cbe1",
   "metadata": {},
   "outputs": [
    {
     "name": "stdout",
     "output_type": "stream",
     "text": [
      "[[[1.45335576 1.99124496 1.3559175  1.80635825 1.96709701]\n",
      "  [1.21614108 1.12813469 1.54810469 1.11917113 1.60757167]\n",
      "  [1.75727739 1.41850778 1.01718322 1.1323822  1.48744152]]\n",
      "\n",
      " [[1.04968708 1.35752342 1.36389725 1.45963487 1.62565944]\n",
      "  [1.38801653 1.08222859 1.29354992 1.20268432 1.82878365]\n",
      "  [1.11511434 1.64380758 1.81316192 1.04407557 1.22552555]]]\n"
     ]
    }
   ],
   "source": [
    "d = a + c\n",
    "\n",
    "print(d)"
   ]
  },
  {
   "cell_type": "markdown",
   "id": "37d71d7a",
   "metadata": {},
   "source": [
    "11. Print a and d. Notice the difference and relation of the two array in terms of the values? Explain."
   ]
  },
  {
   "cell_type": "code",
   "execution_count": 12,
   "id": "1452b66a",
   "metadata": {
    "lines_to_next_cell": 2
   },
   "outputs": [
    {
     "name": "stdout",
     "output_type": "stream",
     "text": [
      " a: \n",
      "[[[0.45335576 0.99124496 0.3559175  0.80635825 0.96709701]\n",
      "  [0.21614108 0.12813469 0.54810469 0.11917113 0.60757167]\n",
      "  [0.75727739 0.41850778 0.01718322 0.1323822  0.48744152]]\n",
      "\n",
      " [[0.04968708 0.35752342 0.36389725 0.45963487 0.62565944]\n",
      "  [0.38801653 0.08222859 0.29354992 0.20268432 0.82878365]\n",
      "  [0.11511434 0.64380758 0.81316192 0.04407557 0.22552555]]]\n",
      " d: \n",
      "[[[1.45335576 1.99124496 1.3559175  1.80635825 1.96709701]\n",
      "  [1.21614108 1.12813469 1.54810469 1.11917113 1.60757167]\n",
      "  [1.75727739 1.41850778 1.01718322 1.1323822  1.48744152]]\n",
      "\n",
      " [[1.04968708 1.35752342 1.36389725 1.45963487 1.62565944]\n",
      "  [1.38801653 1.08222859 1.29354992 1.20268432 1.82878365]\n",
      "  [1.11511434 1.64380758 1.81316192 1.04407557 1.22552555]]]\n"
     ]
    }
   ],
   "source": [
    "print(f\" a: \\n{a}\")\n",
    "print(f\" d: \\n{d}\")"
   ]
  },
  {
   "cell_type": "markdown",
   "id": "58ff87e5",
   "metadata": {},
   "source": [
    "12. Multiply a and c. Assign the result to e."
   ]
  },
  {
   "cell_type": "code",
   "execution_count": 13,
   "id": "28af63fc",
   "metadata": {
    "lines_to_next_cell": 2
   },
   "outputs": [
    {
     "name": "stdout",
     "output_type": "stream",
     "text": [
      "[[[0.45335576 0.99124496 0.3559175  0.80635825 0.96709701]\n",
      "  [0.21614108 0.12813469 0.54810469 0.11917113 0.60757167]\n",
      "  [0.75727739 0.41850778 0.01718322 0.1323822  0.48744152]]\n",
      "\n",
      " [[0.04968708 0.35752342 0.36389725 0.45963487 0.62565944]\n",
      "  [0.38801653 0.08222859 0.29354992 0.20268432 0.82878365]\n",
      "  [0.11511434 0.64380758 0.81316192 0.04407557 0.22552555]]]\n"
     ]
    }
   ],
   "source": [
    "e = a * c\n",
    "print(e)\n"
   ]
  },
  {
   "cell_type": "markdown",
   "id": "c4efd692",
   "metadata": {},
   "source": [
    "13. Does e equal to a? Why or why not?"
   ]
  },
  {
   "cell_type": "markdown",
   "id": "9c08bc24",
   "metadata": {},
   "source": [
    "Yes, it is. Because: 1(c) multiplied with something(a) is always something(a). "
   ]
  },
  {
   "cell_type": "markdown",
   "id": "f1b6f79f",
   "metadata": {},
   "source": [
    "14. Identify the max, min, and mean values in d. Assign those values to variables \"d_max\", \"d_min\", and \"d_mean\""
   ]
  },
  {
   "cell_type": "code",
   "execution_count": 14,
   "id": "dfd8109c",
   "metadata": {
    "lines_to_next_cell": 2
   },
   "outputs": [
    {
     "name": "stdout",
     "output_type": "stream",
     "text": [
      "d_max: 1.9912449602010047 \n",
      "d_min_ 1.0171832243645802 \n",
      "d_mean: 1.416641295872516\n"
     ]
    }
   ],
   "source": [
    "d_max = np.max(d)\n",
    "d_min = np.min(d)\n",
    "d_mean = np.mean(d)\n",
    "print(f\"d_max: {d_max} \\nd_min_ {d_min} \\nd_mean: {d_mean}\")"
   ]
  },
  {
   "cell_type": "markdown",
   "id": "dd8e8104",
   "metadata": {},
   "source": [
    "15. Now we want to label the values in d. First create an empty array \"f\" with the same shape (i.e. 2x3x5) as d using `np.empty`."
   ]
  },
  {
   "cell_type": "code",
   "execution_count": 15,
   "id": "0d28c58e",
   "metadata": {
    "lines_to_next_cell": 2
   },
   "outputs": [
    {
     "name": "stdout",
     "output_type": "stream",
     "text": [
      "[[[0.45335576 0.99124496 0.3559175  0.80635825 0.96709701]\n",
      "  [0.21614108 0.12813469 0.54810469 0.11917113 0.60757167]\n",
      "  [0.75727739 0.41850778 0.01718322 0.1323822  0.48744152]]\n",
      "\n",
      " [[0.04968708 0.35752342 0.36389725 0.45963487 0.62565944]\n",
      "  [0.38801653 0.08222859 0.29354992 0.20268432 0.82878365]\n",
      "  [0.11511434 0.64380758 0.81316192 0.04407557 0.22552555]]]\n"
     ]
    }
   ],
   "source": [
    "f = np.empty((2, 3, 5))\n",
    "print(f)"
   ]
  },
  {
   "cell_type": "markdown",
   "id": "ec65dba6",
   "metadata": {},
   "source": [
    "16. Populate the values in f. For each value in d, if it's larger than d_min but smaller than d_mean, assign 25 to the corresponding value in f.\n",
    "\n",
    "If a value in d is larger than d_mean but smaller than d_max, assign 75 to the corresponding value in f.\n",
    "\n",
    "If a value equals to d_mean, assign 50 to the corresponding value in f.\n",
    "\n",
    "Assign 0 to the corresponding value(s) in f for d_min in d.\n",
    "\n",
    "Assign 100 to the corresponding value(s) in f for d_max in d.\n",
    "\n",
    "In the end, f should have only the following values: 0, 25, 50, 75, and 100.\n",
    "\n",
    "Note: you don't have to use Numpy in this question."
   ]
  },
  {
   "cell_type": "code",
   "execution_count": 16,
   "id": "a1ed8d9b",
   "metadata": {},
   "outputs": [
    {
     "name": "stdout",
     "output_type": "stream",
     "text": [
      "d_max: 1.97066381 \n",
      "d_min_ 1.00656599 \n",
      "d_mean: 1.6175069086666667\n",
      " array is: \n",
      " [[[ 75.  75.  75.  25.  75.]\n",
      "  [ 75.  75.  25.  25.  25.]\n",
      "  [ 75.  25.  75.  75.  75.]]\n",
      "\n",
      " [[ 25.  25.  25.  25. 100.]\n",
      "  [ 75.  75.  75.  75.  75.]\n",
      "  [ 25.  75.   0.  75.  75.]]]\n"
     ]
    }
   ],
   "source": [
    "d = np.array([[[1.85836099, 1.67064465, 1.62576044, 1.40243961, 1.88454931],\n",
    "        [1.75354326, 1.69403643, 1.36729252, 1.61415071, 1.12104981],\n",
    "        [1.72201435, 1.1862918 , 1.87078449, 1.7726778 , 1.88180042]],\n",
    "\n",
    "       [[1.44747908, 1.31673383, 1.02000951, 1.52218947, 1.97066381],\n",
    "        [1.79129243, 1.74983003, 1.96028037, 1.85166831, 1.65450881],\n",
    "        [1.18068344, 1.9587381 , 1.00656599, 1.93402165, 1.73514584]]])\n",
    "\n",
    "d_max = np.max(d)\n",
    "d_min = np.min(d)\n",
    "d_mean = np.mean(d)\n",
    "print(f\"d_max: {d_max} \\nd_min_ {d_min} \\nd_mean: {d_mean}\")\n",
    "\n",
    "for ma, matrix in enumerate(d):\n",
    "    for ro, row in enumerate(matrix):\n",
    "        for el, element in enumerate(row):\n",
    "            if d_mean > element > d_min:\n",
    "                f[ma][ro][el] = 25\n",
    "            elif element == d_max:\n",
    "                f[ma][ro][el] = 100\n",
    "            elif d_max > element > d_mean: \n",
    "                f[ma][ro][el] = 75    \n",
    "            elif element > d_mean:\n",
    "                f[ma][ro][el] = 50\n",
    "            elif element == d_min:\n",
    "                f[ma][ro][el] = 0\n",
    "            \n",
    "print(f\" array is: \\n {f}\")                          "
   ]
  },
  {
   "cell_type": "markdown",
   "id": "16a9c513",
   "metadata": {},
   "source": [
    "17. Print d and f. Do you have your expected f?\n",
    "For instance, if your d is:\n",
    "array([[[1.85836099, 1.67064465, 1.62576044, 1.40243961, 1.88454931],\n",
    "        [1.75354326, 1.69403643, 1.36729252, 1.61415071, 1.12104981],\n",
    "        [1.72201435, 1.1862918 , 1.87078449, 1.7726778 , 1.88180042]],\n",
    "\n",
    "       [[1.44747908, 1.31673383, 1.02000951, 1.52218947, 1.97066381],\n",
    "        [1.79129243, 1.74983003, 1.96028037, 1.85166831, 1.65450881],\n",
    "        [1.18068344, 1.9587381 , 1.00656599, 1.93402165, 1.73514584]]])\n",
    "\n",
    "Your f should be:\n",
    "array([[[ 75.,  75.,  75.,  25.,  75.],\n",
    "        [ 75.,  75.,  25.,  25.,  25.],\n",
    "        [ 75.,  25.,  75.,  75.,  75.]],\n",
    "\n",
    "       [[ 25.,  25.,  25.,  25., 100.],\n",
    "        [ 75.,  75.,  75.,  75.,  75.],\n",
    "        [ 25.,  75.,   0.,  75.,  75.]]])"
   ]
  },
  {
   "cell_type": "code",
   "execution_count": 17,
   "id": "0b9b1cc5",
   "metadata": {},
   "outputs": [
    {
     "name": "stdout",
     "output_type": "stream",
     "text": [
      "d: \n",
      " [[[1.85836099 1.67064465 1.62576044 1.40243961 1.88454931]\n",
      "  [1.75354326 1.69403643 1.36729252 1.61415071 1.12104981]\n",
      "  [1.72201435 1.1862918  1.87078449 1.7726778  1.88180042]]\n",
      "\n",
      " [[1.44747908 1.31673383 1.02000951 1.52218947 1.97066381]\n",
      "  [1.79129243 1.74983003 1.96028037 1.85166831 1.65450881]\n",
      "  [1.18068344 1.9587381  1.00656599 1.93402165 1.73514584]]]\n",
      "3\n",
      "f: \n",
      " [[[ 75.  75.  75.  25.  75.]\n",
      "  [ 75.  75.  25.  25.  25.]\n",
      "  [ 75.  25.  75.  75.  75.]]\n",
      "\n",
      " [[ 25.  25.  25.  25. 100.]\n",
      "  [ 75.  75.  75.  75.  75.]\n",
      "  [ 25.  75.   0.  75.  75.]]]\n",
      "d_max: 1.97066381 \n",
      "d_min_ 1.00656599 \n",
      "d_mean: 1.6175069086666667\n"
     ]
    }
   ],
   "source": [
    "print(f\"d: \\n {d}\") \n",
    "print(d.ndim)\n",
    "print(f\"f: \\n {f}\") \n",
    "print(f\"d_max: {d_max} \\nd_min_ {d_min} \\nd_mean: {d_mean}\")\n"
   ]
  },
  {
   "cell_type": "markdown",
   "id": "5a5a0bc9",
   "metadata": {},
   "source": [
    "18. Bonus question: instead of using numbers (i.e. 0, 25, 50, 75, and 100), how to use string values \n",
    "(\"A\", \"B\", \"C\", \"D\", and \"E\") to label the array elements? You are expecting the result to be:\n",
    "array([[[ 'D',  'D',  'D',  'B',  'D'],\n",
    "        [ 'D',  'D',  'B',  'B',  'B'],\n",
    "        [ 'D',  'B',  'D',  'D',  'D']],\n",
    "\n",
    "       [[ 'B',  'B',  'B',  'B',  'E'],\n",
    "        [ 'D',  'D',  'D',  'D',  'D'],\n",
    "        [ 'B',  'D',   'A',  'D', 'D']]])\n",
    "Again, you don't need Numpy in this question."
   ]
  },
  {
   "cell_type": "code",
   "execution_count": 23,
   "id": "35bbdbfe",
   "metadata": {},
   "outputs": [
    {
     "name": "stdout",
     "output_type": "stream",
     "text": [
      "d_max: 1.97066381 \n",
      "d_min_ 1.00656599 \n",
      "d_mean: 1.6175069086666667\n",
      " array is: \n",
      " [[['D' 'D' 'D' 'B' 'D']\n",
      "  ['D' 'D' 'B' 'B' 'B']\n",
      "  ['D' 'B' 'D' 'D' 'D']]\n",
      "\n",
      " [['B' 'B' 'B' 'B' 'E']\n",
      "  ['D' 'D' 'D' 'D' 'D']\n",
      "  ['B' 'D' 'A' 'D' 'D']]]\n"
     ]
    }
   ],
   "source": [
    "d = np.array([[[1.85836099, 1.67064465, 1.62576044, 1.40243961, 1.88454931],\n",
    "        [1.75354326, 1.69403643, 1.36729252, 1.61415071, 1.12104981],\n",
    "        [1.72201435, 1.1862918 , 1.87078449, 1.7726778 , 1.88180042]],\n",
    "\n",
    "       [[1.44747908, 1.31673383, 1.02000951, 1.52218947, 1.97066381],\n",
    "        [1.79129243, 1.74983003, 1.96028037, 1.85166831, 1.65450881],\n",
    "        [1.18068344, 1.9587381 , 1.00656599, 1.93402165, 1.73514584]]])\n",
    "f = np.empty((2, 3, 5), dtype=str)\n",
    "d_max = np.max(d)\n",
    "d_min = np.min(d)\n",
    "d_mean = np.mean(d)\n",
    "print(f\"d_max: {d_max} \\nd_min_ {d_min} \\nd_mean: {d_mean}\")\n",
    "\n",
    "for ma, matrix in enumerate(d):\n",
    "    for ro, row in enumerate(matrix):\n",
    "        for el, element in enumerate(row):\n",
    "            if d_mean > element > d_min:\n",
    "                f[ma][ro][el] = \"B\" \n",
    "            elif element == d_max:\n",
    "                f[ma][ro][el] = \"E\"\n",
    "            elif d_max > element > d_mean: \n",
    "                f[ma][ro][el] = \"D\"    \n",
    "            elif element > d_mean:\n",
    "                f[ma][ro][el] = \"B\"\n",
    "            elif element == d_min:\n",
    "                f[ma][ro][el] = \"A\"\n",
    "\n",
    "print(f\" array is: \\n {f}\")      \n"
   ]
  }
 ],
 "metadata": {
  "jupytext": {
   "cell_metadata_filter": "-all",
   "main_language": "python",
   "notebook_metadata_filter": "-all"
  },
  "kernelspec": {
   "display_name": "base",
   "language": "python",
   "name": "python3"
  },
  "language_info": {
   "codemirror_mode": {
    "name": "ipython",
    "version": 3
   },
   "file_extension": ".py",
   "mimetype": "text/x-python",
   "name": "python",
   "nbconvert_exporter": "python",
   "pygments_lexer": "ipython3",
   "version": "3.12.4"
  }
 },
 "nbformat": 4,
 "nbformat_minor": 5
}
